{
 "cells": [
  {
   "cell_type": "code",
   "execution_count": 5,
   "id": "309b7bea-7d46-4369-8158-46fa4ae1cb3b",
   "metadata": {},
   "outputs": [
    {
     "name": "stdout",
     "output_type": "stream",
     "text": [
      "Januari\n"
     ]
    },
    {
     "ename": "TypeError",
     "evalue": "'tuple' object does not support item assignment",
     "output_type": "error",
     "traceback": [
      "\u001b[1;31m---------------------------------------------------------------------------\u001b[0m",
      "\u001b[1;31mTypeError\u001b[0m                                 Traceback (most recent call last)",
      "\u001b[1;32mC:\\Users\\Lheyman\\AppData\\Local\\Temp/ipykernel_6320/3072448760.py\u001b[0m in \u001b[0;36m<module>\u001b[1;34m\u001b[0m\n\u001b[0;32m      9\u001b[0m \u001b[1;33m\u001b[0m\u001b[0m\n\u001b[0;32m     10\u001b[0m \u001b[1;31m#Petunjuk 4: Rubah Elemen pertama dalam contoh_tuple menjadi 'Desember'\u001b[0m\u001b[1;33m\u001b[0m\u001b[1;33m\u001b[0m\u001b[1;33m\u001b[0m\u001b[0m\n\u001b[1;32m---> 11\u001b[1;33m \u001b[0mcontoh_tuple\u001b[0m\u001b[1;33m[\u001b[0m\u001b[1;36m0\u001b[0m\u001b[1;33m]\u001b[0m \u001b[1;33m=\u001b[0m \u001b[1;34m'Desember'\u001b[0m \u001b[1;31m#elemen pada tipe data tuple tidak dapat diubah setelah proses pendeklarasiannya.\u001b[0m\u001b[1;33m\u001b[0m\u001b[1;33m\u001b[0m\u001b[0m\n\u001b[0m",
      "\u001b[1;31mTypeError\u001b[0m: 'tuple' object does not support item assignment"
     ]
    }
   ],
   "source": [
    "#Petunjuk 1: Input data Januari sampai dengan April ke dalam contoh_tuple\n",
    "contoh_tuple = ('Januari', 'Feburari', 'Maret', 'April')\n",
    "\n",
    "#Petunjuk 2: Ambil Elemen pertama dari contoh_tuple untuk menampilkan output 1 menggunakan print statement\n",
    "print(contoh_tuple[0])\n",
    "\n",
    "#Petunjuk 3: Input kembali data Januari sampai dengan April ke dalamcontoh_tuple\n",
    "contoh_tuple = ('Januari', 'Feburari', 'Maret', 'April')\n",
    "\n",
    "#Petunjuk 4: Rubah Elemen pertama dalam contoh_tuple menjadi 'Desember'\n",
    "contoh_tuple[0] = 'Desember' #elemen pada tipe data tuple tidak dapat diubah setelah proses pendeklarasiannya. "
   ]
  },
  {
   "cell_type": "code",
   "execution_count": null,
   "id": "1b12b99c-e4bd-4c86-8703-00455f27f2f2",
   "metadata": {},
   "outputs": [],
   "source": []
  }
 ],
 "metadata": {
  "kernelspec": {
   "display_name": "Python 3 (ipykernel)",
   "language": "python",
   "name": "python3"
  },
  "language_info": {
   "codemirror_mode": {
    "name": "ipython",
    "version": 3
   },
   "file_extension": ".py",
   "mimetype": "text/x-python",
   "name": "python",
   "nbconvert_exporter": "python",
   "pygments_lexer": "ipython3",
   "version": "3.7.12"
  }
 },
 "nbformat": 4,
 "nbformat_minor": 5
}

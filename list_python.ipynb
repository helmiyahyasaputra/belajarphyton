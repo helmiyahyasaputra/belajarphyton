{
 "cells": [
  {
   "cell_type": "code",
   "execution_count": 3,
   "id": "d8cc90b8-92a1-4b4b-9bf6-6230771322dd",
   "metadata": {},
   "outputs": [
    {
     "name": "stdout",
     "output_type": "stream",
     "text": [
      "1\n",
      "4.0\n",
      "empat\n"
     ]
    }
   ],
   "source": [
    "#Petunjuk 1: Input data 1, 'dua', 3, 4.0, 5 ke dalam contoh_list\n",
    "contoh_list = [1, 'dua', 3, 4.0, 5]\n",
    "\n",
    "#Petunjuk 2: Ambil Elemen pertama dari contoh_list untuk menampilkan  output 1 menggunakan print statement\n",
    "print(contoh_list[0])\n",
    "\n",
    "#Petunjuk 3: Ambil Elemen ke empat dari contoh_list untuk menampilkan output 4.0 menggunakan print statement\n",
    "print(contoh_list[3])\n",
    "\n",
    "#Petunjuk 4: Input data 1, 'dua', 3, 4.0, 5 ke dalam contoh_list\n",
    "contoh_list = [1, 'dua', 3, 4.0, 5]\n",
    "\n",
    "#Petunjuk 5: Rubah Elemen keempat dalam contoh_list menjadi 'empat'\n",
    "contoh_list[4] = 'empat'\n",
    "\n",
    "#Petunjuk 6: Tampilkan output elemen keempat yang telah dirubah tersebut menggunakan print statement\n",
    "print(contoh_list[4])"
   ]
  },
  {
   "cell_type": "code",
   "execution_count": null,
   "id": "2163b64e-0c7c-4dd8-889b-4ea814e3ea9c",
   "metadata": {},
   "outputs": [],
   "source": []
  },
  {
   "cell_type": "code",
   "execution_count": null,
   "id": "9ea465b2-fc1d-43bd-9845-905ff41304c3",
   "metadata": {},
   "outputs": [],
   "source": []
  },
  {
   "cell_type": "code",
   "execution_count": null,
   "id": "21499cf3-29c6-4db3-a456-cb4d9bcabb96",
   "metadata": {},
   "outputs": [],
   "source": []
  }
 ],
 "metadata": {
  "kernelspec": {
   "display_name": "Python 3 (ipykernel)",
   "language": "python",
   "name": "python3"
  },
  "language_info": {
   "codemirror_mode": {
    "name": "ipython",
    "version": 3
   },
   "file_extension": ".py",
   "mimetype": "text/x-python",
   "name": "python",
   "nbconvert_exporter": "python",
   "pygments_lexer": "ipython3",
   "version": "3.7.12"
  }
 },
 "nbformat": 4,
 "nbformat_minor": 5
}

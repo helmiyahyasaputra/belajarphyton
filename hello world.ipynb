{
 "cells": [
  {
   "cell_type": "code",
   "execution_count": 1,
   "id": "e107f333-f9d9-43bc-89e1-dde4951761b8",
   "metadata": {},
   "outputs": [
    {
     "name": "stdout",
     "output_type": "stream",
     "text": [
      "Hello World\n"
     ]
    }
   ],
   "source": [
    "print (\"Hello World\")"
   ]
  },
  {
   "cell_type": "code",
   "execution_count": 2,
   "id": "2ba48197-378b-4140-8b83-8b01670b7f3c",
   "metadata": {},
   "outputs": [
    {
     "name": "stdout",
     "output_type": "stream",
     "text": [
      "Saya senang sekali belajar Python\n"
     ]
    }
   ],
   "source": [
    "print (\"Saya senang sekali belajar Python\")"
   ]
  },
  {
   "cell_type": "code",
   "execution_count": 1,
   "id": "734d7537-d241-4929-ad44-9fe4131a08ee",
   "metadata": {},
   "outputs": [
    {
     "name": "stdout",
     "output_type": "stream",
     "text": [
      "Saya Yuliah Mahasiswa Teknik Komputer Universitas Wiralodra\n"
     ]
    }
   ],
   "source": [
    "print (\"Saya Yuliah Mahasiswa Teknik Komputer Universitas Wiralodra\")"
   ]
  },
  {
   "cell_type": "code",
   "execution_count": null,
   "id": "e696500d-7202-4497-b994-7580007afa12",
   "metadata": {},
   "outputs": [],
   "source": []
  }
 ],
 "metadata": {
  "kernelspec": {
   "display_name": "Python 3 (ipykernel)",
   "language": "python",
   "name": "python3"
  },
  "language_info": {
   "codemirror_mode": {
    "name": "ipython",
    "version": 3
   },
   "file_extension": ".py",
   "mimetype": "text/x-python",
   "name": "python",
   "nbconvert_exporter": "python",
   "pygments_lexer": "ipython3",
   "version": "3.7.12"
  }
 },
 "nbformat": 4,
 "nbformat_minor": 5
}

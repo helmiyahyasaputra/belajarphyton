{
 "cells": [
  {
   "cell_type": "code",
   "execution_count": 3,
   "id": "676a0ef9-5ed0-4876-b170-2dbca0e15042",
   "metadata": {},
   "outputs": [
    {
     "name": "stdout",
     "output_type": "stream",
     "text": [
      "John Doe\n",
      "Programmer\n"
     ]
    }
   ],
   "source": [
    "person = {'Nama': 'John Doe', 'Pekerjaan' : 'Programmer'}\n",
    "print(person['Nama'])\n",
    "print(person['Pekerjaan'])"
   ]
  },
  {
   "cell_type": "code",
   "execution_count": null,
   "id": "c5231b7b-c69d-4dc6-a2d6-9ce6cc15102e",
   "metadata": {},
   "outputs": [],
   "source": []
  }
 ],
 "metadata": {
  "kernelspec": {
   "display_name": "Python 3 (ipykernel)",
   "language": "python",
   "name": "python3"
  },
  "language_info": {
   "codemirror_mode": {
    "name": "ipython",
    "version": 3
   },
   "file_extension": ".py",
   "mimetype": "text/x-python",
   "name": "python",
   "nbconvert_exporter": "python",
   "pygments_lexer": "ipython3",
   "version": "3.7.12"
  }
 },
 "nbformat": 4,
 "nbformat_minor": 5
}
